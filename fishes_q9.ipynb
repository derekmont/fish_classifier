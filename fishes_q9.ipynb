{
  "nbformat": 4,
  "nbformat_minor": 0,
  "metadata": {
    "colab": {
      "provenance": []
    },
    "kernelspec": {
      "name": "python3",
      "display_name": "Python 3"
    },
    "language_info": {
      "name": "python"
    },
    "widgets": {
      "application/vnd.jupyter.widget-state+json": {
        "70737841ef6d4a88b389b1195d2d8ffd": {
          "model_module": "@jupyter-widgets/controls",
          "model_name": "VBoxModel",
          "model_module_version": "1.5.0",
          "state": {
            "_dom_classes": [],
            "_model_module": "@jupyter-widgets/controls",
            "_model_module_version": "1.5.0",
            "_model_name": "VBoxModel",
            "_view_count": null,
            "_view_module": "@jupyter-widgets/controls",
            "_view_module_version": "1.5.0",
            "_view_name": "VBoxView",
            "box_style": "",
            "children": [
              "IPY_MODEL_2b1693da70bb4e9488f2fbf7fa15d9cf",
              "IPY_MODEL_79e705412afc4207b5c57f6ad596982d",
              "IPY_MODEL_7dde295668cc49a6bdc06ad79cc7bdbd",
              "IPY_MODEL_0a3c7617dbf24bbbb88f914bc6b69c7c"
            ],
            "layout": "IPY_MODEL_1754fbd38db54ec1923abc6c1866b3c9"
          }
        },
        "2b1693da70bb4e9488f2fbf7fa15d9cf": {
          "model_module": "@jupyter-widgets/controls",
          "model_name": "LabelModel",
          "model_module_version": "1.5.0",
          "state": {
            "_dom_classes": [],
            "_model_module": "@jupyter-widgets/controls",
            "_model_module_version": "1.5.0",
            "_model_name": "LabelModel",
            "_view_count": null,
            "_view_module": "@jupyter-widgets/controls",
            "_view_module_version": "1.5.0",
            "_view_name": "LabelView",
            "description": "",
            "description_tooltip": null,
            "layout": "IPY_MODEL_0609786c090a44b6bf7e9c23e98e12f2",
            "placeholder": "​",
            "style": "IPY_MODEL_b7255fac1fcd481d8015c866a2bd2368",
            "value": "Select your fish!"
          }
        },
        "79e705412afc4207b5c57f6ad596982d": {
          "model_module": "@jupyter-widgets/controls",
          "model_name": "FileUploadModel",
          "model_module_version": "1.5.0",
          "state": {
            "_counter": 1,
            "_dom_classes": [],
            "_model_module": "@jupyter-widgets/controls",
            "_model_module_version": "1.5.0",
            "_model_name": "FileUploadModel",
            "_view_count": null,
            "_view_module": "@jupyter-widgets/controls",
            "_view_module_version": "1.5.0",
            "_view_name": "FileUploadView",
            "accept": "",
            "button_style": "",
            "data": [
              null
            ],
            "description": "Upload",
            "description_tooltip": null,
            "disabled": false,
            "error": "",
            "icon": "upload",
            "layout": "IPY_MODEL_20f3c372c2dc4e22a953a9749ba19238",
            "metadata": [
              {
                "name": "iStock-1329438563.webp",
                "type": "image/webp",
                "size": 95108,
                "lastModified": 1707723373794
              }
            ],
            "multiple": false,
            "style": "IPY_MODEL_76180a5a7d1a45a4ae7b5522e0d1cac4"
          }
        },
        "7dde295668cc49a6bdc06ad79cc7bdbd": {
          "model_module": "@jupyter-widgets/output",
          "model_name": "OutputModel",
          "model_module_version": "1.0.0",
          "state": {
            "_dom_classes": [],
            "_model_module": "@jupyter-widgets/output",
            "_model_module_version": "1.0.0",
            "_model_name": "OutputModel",
            "_view_count": null,
            "_view_module": "@jupyter-widgets/output",
            "_view_module_version": "1.0.0",
            "_view_name": "OutputView",
            "layout": "IPY_MODEL_ce432066ed7b49be9545e2041eef6e71",
            "msg_id": "",
            "outputs": [
              {
                "output_type": "display_data",
                "data": {
                  "text/plain": "<PIL.Image.Image image mode=RGB size=128x72>",
                  "image/png": "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\n"
                },
                "metadata": {}
              }
            ]
          }
        },
        "0a3c7617dbf24bbbb88f914bc6b69c7c": {
          "model_module": "@jupyter-widgets/controls",
          "model_name": "LabelModel",
          "model_module_version": "1.5.0",
          "state": {
            "_dom_classes": [],
            "_model_module": "@jupyter-widgets/controls",
            "_model_module_version": "1.5.0",
            "_model_name": "LabelModel",
            "_view_count": null,
            "_view_module": "@jupyter-widgets/controls",
            "_view_module_version": "1.5.0",
            "_view_name": "LabelView",
            "description": "",
            "description_tooltip": null,
            "layout": "IPY_MODEL_84cf032c6aec4a20a27cbbef28b300ea",
            "placeholder": "​",
            "style": "IPY_MODEL_a095a5ecbff44ca385e65871f54d36c3",
            "value": "Prediction: sword; Probability: 1.0000"
          }
        },
        "1754fbd38db54ec1923abc6c1866b3c9": {
          "model_module": "@jupyter-widgets/base",
          "model_name": "LayoutModel",
          "model_module_version": "1.2.0",
          "state": {
            "_model_module": "@jupyter-widgets/base",
            "_model_module_version": "1.2.0",
            "_model_name": "LayoutModel",
            "_view_count": null,
            "_view_module": "@jupyter-widgets/base",
            "_view_module_version": "1.2.0",
            "_view_name": "LayoutView",
            "align_content": null,
            "align_items": null,
            "align_self": null,
            "border": null,
            "bottom": null,
            "display": null,
            "flex": null,
            "flex_flow": null,
            "grid_area": null,
            "grid_auto_columns": null,
            "grid_auto_flow": null,
            "grid_auto_rows": null,
            "grid_column": null,
            "grid_gap": null,
            "grid_row": null,
            "grid_template_areas": null,
            "grid_template_columns": null,
            "grid_template_rows": null,
            "height": null,
            "justify_content": null,
            "justify_items": null,
            "left": null,
            "margin": null,
            "max_height": null,
            "max_width": null,
            "min_height": null,
            "min_width": null,
            "object_fit": null,
            "object_position": null,
            "order": null,
            "overflow": null,
            "overflow_x": null,
            "overflow_y": null,
            "padding": null,
            "right": null,
            "top": null,
            "visibility": null,
            "width": null
          }
        },
        "0609786c090a44b6bf7e9c23e98e12f2": {
          "model_module": "@jupyter-widgets/base",
          "model_name": "LayoutModel",
          "model_module_version": "1.2.0",
          "state": {
            "_model_module": "@jupyter-widgets/base",
            "_model_module_version": "1.2.0",
            "_model_name": "LayoutModel",
            "_view_count": null,
            "_view_module": "@jupyter-widgets/base",
            "_view_module_version": "1.2.0",
            "_view_name": "LayoutView",
            "align_content": null,
            "align_items": null,
            "align_self": null,
            "border": null,
            "bottom": null,
            "display": null,
            "flex": null,
            "flex_flow": null,
            "grid_area": null,
            "grid_auto_columns": null,
            "grid_auto_flow": null,
            "grid_auto_rows": null,
            "grid_column": null,
            "grid_gap": null,
            "grid_row": null,
            "grid_template_areas": null,
            "grid_template_columns": null,
            "grid_template_rows": null,
            "height": null,
            "justify_content": null,
            "justify_items": null,
            "left": null,
            "margin": null,
            "max_height": null,
            "max_width": null,
            "min_height": null,
            "min_width": null,
            "object_fit": null,
            "object_position": null,
            "order": null,
            "overflow": null,
            "overflow_x": null,
            "overflow_y": null,
            "padding": null,
            "right": null,
            "top": null,
            "visibility": null,
            "width": null
          }
        },
        "b7255fac1fcd481d8015c866a2bd2368": {
          "model_module": "@jupyter-widgets/controls",
          "model_name": "DescriptionStyleModel",
          "model_module_version": "1.5.0",
          "state": {
            "_model_module": "@jupyter-widgets/controls",
            "_model_module_version": "1.5.0",
            "_model_name": "DescriptionStyleModel",
            "_view_count": null,
            "_view_module": "@jupyter-widgets/base",
            "_view_module_version": "1.2.0",
            "_view_name": "StyleView",
            "description_width": ""
          }
        },
        "20f3c372c2dc4e22a953a9749ba19238": {
          "model_module": "@jupyter-widgets/base",
          "model_name": "LayoutModel",
          "model_module_version": "1.2.0",
          "state": {
            "_model_module": "@jupyter-widgets/base",
            "_model_module_version": "1.2.0",
            "_model_name": "LayoutModel",
            "_view_count": null,
            "_view_module": "@jupyter-widgets/base",
            "_view_module_version": "1.2.0",
            "_view_name": "LayoutView",
            "align_content": null,
            "align_items": null,
            "align_self": null,
            "border": null,
            "bottom": null,
            "display": null,
            "flex": null,
            "flex_flow": null,
            "grid_area": null,
            "grid_auto_columns": null,
            "grid_auto_flow": null,
            "grid_auto_rows": null,
            "grid_column": null,
            "grid_gap": null,
            "grid_row": null,
            "grid_template_areas": null,
            "grid_template_columns": null,
            "grid_template_rows": null,
            "height": null,
            "justify_content": null,
            "justify_items": null,
            "left": null,
            "margin": null,
            "max_height": null,
            "max_width": null,
            "min_height": null,
            "min_width": null,
            "object_fit": null,
            "object_position": null,
            "order": null,
            "overflow": null,
            "overflow_x": null,
            "overflow_y": null,
            "padding": null,
            "right": null,
            "top": null,
            "visibility": null,
            "width": null
          }
        },
        "76180a5a7d1a45a4ae7b5522e0d1cac4": {
          "model_module": "@jupyter-widgets/controls",
          "model_name": "ButtonStyleModel",
          "model_module_version": "1.5.0",
          "state": {
            "_model_module": "@jupyter-widgets/controls",
            "_model_module_version": "1.5.0",
            "_model_name": "ButtonStyleModel",
            "_view_count": null,
            "_view_module": "@jupyter-widgets/base",
            "_view_module_version": "1.2.0",
            "_view_name": "StyleView",
            "button_color": null,
            "font_weight": ""
          }
        },
        "84cf032c6aec4a20a27cbbef28b300ea": {
          "model_module": "@jupyter-widgets/base",
          "model_name": "LayoutModel",
          "model_module_version": "1.2.0",
          "state": {
            "_model_module": "@jupyter-widgets/base",
            "_model_module_version": "1.2.0",
            "_model_name": "LayoutModel",
            "_view_count": null,
            "_view_module": "@jupyter-widgets/base",
            "_view_module_version": "1.2.0",
            "_view_name": "LayoutView",
            "align_content": null,
            "align_items": null,
            "align_self": null,
            "border": null,
            "bottom": null,
            "display": null,
            "flex": null,
            "flex_flow": null,
            "grid_area": null,
            "grid_auto_columns": null,
            "grid_auto_flow": null,
            "grid_auto_rows": null,
            "grid_column": null,
            "grid_gap": null,
            "grid_row": null,
            "grid_template_areas": null,
            "grid_template_columns": null,
            "grid_template_rows": null,
            "height": null,
            "justify_content": null,
            "justify_items": null,
            "left": null,
            "margin": null,
            "max_height": null,
            "max_width": null,
            "min_height": null,
            "min_width": null,
            "object_fit": null,
            "object_position": null,
            "order": null,
            "overflow": null,
            "overflow_x": null,
            "overflow_y": null,
            "padding": null,
            "right": null,
            "top": null,
            "visibility": null,
            "width": null
          }
        },
        "a095a5ecbff44ca385e65871f54d36c3": {
          "model_module": "@jupyter-widgets/controls",
          "model_name": "DescriptionStyleModel",
          "model_module_version": "1.5.0",
          "state": {
            "_model_module": "@jupyter-widgets/controls",
            "_model_module_version": "1.5.0",
            "_model_name": "DescriptionStyleModel",
            "_view_count": null,
            "_view_module": "@jupyter-widgets/base",
            "_view_module_version": "1.2.0",
            "_view_name": "StyleView",
            "description_width": ""
          }
        },
        "ce432066ed7b49be9545e2041eef6e71": {
          "model_module": "@jupyter-widgets/base",
          "model_name": "LayoutModel",
          "model_module_version": "1.2.0",
          "state": {
            "_model_module": "@jupyter-widgets/base",
            "_model_module_version": "1.2.0",
            "_model_name": "LayoutModel",
            "_view_count": null,
            "_view_module": "@jupyter-widgets/base",
            "_view_module_version": "1.2.0",
            "_view_name": "LayoutView",
            "align_content": null,
            "align_items": null,
            "align_self": null,
            "border": null,
            "bottom": null,
            "display": null,
            "flex": null,
            "flex_flow": null,
            "grid_area": null,
            "grid_auto_columns": null,
            "grid_auto_flow": null,
            "grid_auto_rows": null,
            "grid_column": null,
            "grid_gap": null,
            "grid_row": null,
            "grid_template_areas": null,
            "grid_template_columns": null,
            "grid_template_rows": null,
            "height": null,
            "justify_content": null,
            "justify_items": null,
            "left": null,
            "margin": null,
            "max_height": null,
            "max_width": null,
            "min_height": null,
            "min_width": null,
            "object_fit": null,
            "object_position": null,
            "order": null,
            "overflow": null,
            "overflow_x": null,
            "overflow_y": null,
            "padding": null,
            "right": null,
            "top": null,
            "visibility": null,
            "width": null
          }
        }
      }
    }
  },
  "cells": [
    {
      "cell_type": "code",
      "source": [
        "#hide\n",
        "from fastbook import *\n",
        "from fastai.vision.widgets import *"
      ],
      "metadata": {
        "id": "FobUCJCTPBpB"
      },
      "execution_count": 9,
      "outputs": []
    },
    {
      "cell_type": "code",
      "source": [
        "# Set path, upload model from export.pkl, button, widget, output widget, and label prediction widget\n",
        "path = Path()\n",
        "learn_inf = load_learner(path/'export_fish.pkl', cpu=True)\n",
        "btn_upload = widgets.FileUpload()\n",
        "out_pl = widgets.Output()\n",
        "lbl_pred = widgets.Label()"
      ],
      "metadata": {
        "id": "ehHCfli9PGrv"
      },
      "execution_count": 10,
      "outputs": []
    },
    {
      "cell_type": "code",
      "source": [
        "# Function to allow the user to upload an image and use the image to make a prediction\n",
        "\n",
        "def on_click_classify(change):\n",
        "    img = PILImage.create(btn_upload.data[-1])\n",
        "    out_pl.clear_output()\n",
        "    with out_pl: display(img.to_thumb(128,128))\n",
        "    pred,pred_idx,probs = learn_inf.predict(img)\n",
        "    lbl_pred.value = f'Prediction: {pred}; Probability: {probs[pred_idx]:.04f}'"
      ],
      "metadata": {
        "id": "VXdg0A0YPOkY"
      },
      "execution_count": 11,
      "outputs": []
    },
    {
      "cell_type": "code",
      "source": [
        "btn_upload.observe(on_click_classify, names=['data'])"
      ],
      "metadata": {
        "id": "bE8ftgUiPTiu"
      },
      "execution_count": 12,
      "outputs": []
    },
    {
      "cell_type": "code",
      "source": [
        "display(VBox([widgets.Label('Select your fish!'), btn_upload, out_pl, lbl_pred]))"
      ],
      "metadata": {
        "colab": {
          "base_uri": "https://localhost:8080/",
          "height": 185,
          "referenced_widgets": [
            "70737841ef6d4a88b389b1195d2d8ffd",
            "2b1693da70bb4e9488f2fbf7fa15d9cf",
            "79e705412afc4207b5c57f6ad596982d",
            "7dde295668cc49a6bdc06ad79cc7bdbd",
            "0a3c7617dbf24bbbb88f914bc6b69c7c",
            "1754fbd38db54ec1923abc6c1866b3c9",
            "0609786c090a44b6bf7e9c23e98e12f2",
            "b7255fac1fcd481d8015c866a2bd2368",
            "20f3c372c2dc4e22a953a9749ba19238",
            "76180a5a7d1a45a4ae7b5522e0d1cac4",
            "84cf032c6aec4a20a27cbbef28b300ea",
            "a095a5ecbff44ca385e65871f54d36c3",
            "ce432066ed7b49be9545e2041eef6e71"
          ]
        },
        "id": "Am_SEdewPVuP",
        "outputId": "aef7ece0-6764-4ba2-e62f-960eaa9d109b"
      },
      "execution_count": 13,
      "outputs": [
        {
          "output_type": "display_data",
          "data": {
            "text/plain": [
              "VBox(children=(Label(value='Select your fish!'), FileUpload(value={}, description='Upload'), Output(), Label(v…"
            ],
            "application/vnd.jupyter.widget-view+json": {
              "version_major": 2,
              "version_minor": 0,
              "model_id": "70737841ef6d4a88b389b1195d2d8ffd"
            }
          },
          "metadata": {}
        },
        {
          "output_type": "display_data",
          "data": {
            "text/plain": [
              "<IPython.core.display.HTML object>"
            ],
            "text/html": [
              "\n",
              "<style>\n",
              "    /* Turns off some styling */\n",
              "    progress {\n",
              "        /* gets rid of default border in Firefox and Opera. */\n",
              "        border: none;\n",
              "        /* Needs to be in here for Safari polyfill so background images work as expected. */\n",
              "        background-size: auto;\n",
              "    }\n",
              "    progress:not([value]), progress:not([value])::-webkit-progress-bar {\n",
              "        background: repeating-linear-gradient(45deg, #7e7e7e, #7e7e7e 10px, #5c5c5c 10px, #5c5c5c 20px);\n",
              "    }\n",
              "    .progress-bar-interrupted, .progress-bar-interrupted::-webkit-progress-bar {\n",
              "        background: #F44336;\n",
              "    }\n",
              "</style>\n"
            ]
          },
          "metadata": {}
        },
        {
          "output_type": "display_data",
          "data": {
            "text/plain": [
              "<IPython.core.display.HTML object>"
            ],
            "text/html": []
          },
          "metadata": {}
        }
      ]
    },
    {
      "cell_type": "code",
      "source": [],
      "metadata": {
        "id": "qiibnlcRPaKW"
      },
      "execution_count": null,
      "outputs": []
    }
  ]
}